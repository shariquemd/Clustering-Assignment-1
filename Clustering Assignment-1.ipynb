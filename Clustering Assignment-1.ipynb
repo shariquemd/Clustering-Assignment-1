{
 "cells": [
  {
   "cell_type": "code",
   "execution_count": null,
   "id": "b4aad0d4-f3df-411b-acc8-23e04b6ebda7",
   "metadata": {},
   "outputs": [],
   "source": [
    "ANSWER1:\n",
    "Partitioning Algorithms (e.g., K-Means): Divides data into distinct non-overlapping subsets.\n",
    "Hierarchical Algorithms (e.g., Agglomerative): Create a tree of clusters, enabling a hierarchy.\n",
    "Density-Based Algorithms (e.g., DBSCAN): Identify dense regions separated by sparser areas.\n",
    "Model-Based Algorithms (e.g., Gaussian Mixture Models): Assume data follows a certain distribution or model.\n",
    "\n",
    "ANSWER2:\n",
    "K-Means Clustering:\n",
    "How it Works: Iteratively assigns data points to clusters based on the mean of the cluster and updates the cluster centroids until convergence.\n",
    "Objective: Minimize the sum of squared distances between data points and their respective cluster centroids.\n",
    "\n",
    "ANSWER3:\n",
    "Advantages and Limitations of K-Means:\n",
    "Advantages:\n",
    "Simple and easy to understand.\n",
    "Efficient and scalable for large datasets.\n",
    "Limitations:\n",
    "Assumes clusters are spherical and equally sized.\n",
    "Sensitive to initial cluster centers.\n",
    "May converge to local minima.\n",
    "\n",
    "ANSWER4:\n",
    "Determining the Optimal Number of Clusters (K):\n",
    "Elbow Method: Plot the sum of squared distances (inertia) against different values of K and look for the \"elbow\" point.\n",
    "Silhouette Score: Measures how similar an object is to its own cluster compared to other clusters.\n",
    "Gap Statistics: Compare the inertia of your model with that of a random clustering.\n",
    "\n",
    "ANSWER5:\n",
    "Applications of K-Means Clustering:\n",
    "Customer Segmentation: Group customers based on similar purchasing behaviors.\n",
    "Image Compression: Reduce the number of colors in an image.\n",
    "Anomaly Detection: Identify unusual patterns in data.\n",
    "\n",
    "ANSWER6:\n",
    "Interpreting K-Means Output:\n",
    "Cluster Centers: Represent the \"average\" of data points in each cluster.\n",
    "Cluster Assignments: Indicate which cluster each data point belongs to.\n",
    "Inertia: Sum of squared distances from each point to its assigned centroid.\n",
    "\n",
    "ANSWER7:\n",
    "Challenges in Implementing K-Means:\n",
    "Sensitive to Initial Centroids: Starting with different initial centroids may lead to different final clusters.\n",
    "Choosing the Right K: No universal method, and the interpretation might vary based on the problem.\n",
    "Handling Outliers: K-Means is sensitive to outliers and may create a cluster just for them."
   ]
  }
 ],
 "metadata": {
  "kernelspec": {
   "display_name": "Python 3 (ipykernel)",
   "language": "python",
   "name": "python3"
  },
  "language_info": {
   "codemirror_mode": {
    "name": "ipython",
    "version": 3
   },
   "file_extension": ".py",
   "mimetype": "text/x-python",
   "name": "python",
   "nbconvert_exporter": "python",
   "pygments_lexer": "ipython3",
   "version": "3.10.8"
  }
 },
 "nbformat": 4,
 "nbformat_minor": 5
}
